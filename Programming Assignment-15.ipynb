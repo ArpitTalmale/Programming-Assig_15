{
 "cells": [
  {
   "cell_type": "markdown",
   "id": "d37812c3",
   "metadata": {},
   "source": [
    "### 1. Please write a program using generator to print the numbers which can be divisible by 5 and 7 between 0 and n in comma separated form while n is input by console ?\n",
    "Example:\n",
    "If the following n is given as input to the program: 100\n",
    "Then, the output of the program should be: 0,35,70"
   ]
  },
  {
   "cell_type": "code",
   "execution_count": 10,
   "id": "a78f4545",
   "metadata": {},
   "outputs": [
    {
     "name": "stdout",
     "output_type": "stream",
     "text": [
      "0 35 70 "
     ]
    }
   ],
   "source": [
    "#Solution:-\n",
    "\n",
    "def gen(n):\n",
    "    for num in range(0,n):\n",
    "        if (num%5==0) and (num%7==0):\n",
    "            yield num\n",
    "for num in gen(100):\n",
    "    print(num,end=\" \")\n",
    "    "
   ]
  },
  {
   "cell_type": "markdown",
   "id": "5e821320",
   "metadata": {},
   "source": [
    "###  2.Please write a program using generator to print the even numbers between 0 and n in comma separated form while n is input by console ?\n",
    "Example:\n",
    "If the following n is given as input to the program: 10\n",
    "Then, the output of the program should be: 0,2,4,6,8,10"
   ]
  },
  {
   "cell_type": "code",
   "execution_count": 11,
   "id": "59bbfa91",
   "metadata": {},
   "outputs": [
    {
     "name": "stdout",
     "output_type": "stream",
     "text": [
      "0 2 4 6 8 "
     ]
    }
   ],
   "source": [
    "#Solution:-\n",
    "\n",
    "def gen_even(n):\n",
    "    for num in range(0,n):\n",
    "        if (num%2==0):\n",
    "            yield num\n",
    "for num in gen_even(10):\n",
    "    print(num,end=\" \")"
   ]
  },
  {
   "cell_type": "markdown",
   "id": "6ad6ce66",
   "metadata": {},
   "source": [
    "### 3.The Fibonacci Sequence is computed based on the following formula below, Please write a program using list comprehension to print the Fibonacci Sequence in comma separated form with a given n input by console ?"
   ]
  },
  {
   "cell_type": "markdown",
   "id": "65aa92f0",
   "metadata": {},
   "source": [
    "f(n)=0 if n=0 f(n)=1 if n=1 f(n)=f(n-1)+f(n-2) if n>1"
   ]
  },
  {
   "cell_type": "code",
   "execution_count": 16,
   "id": "3e6c5a48",
   "metadata": {},
   "outputs": [
    {
     "name": "stdout",
     "output_type": "stream",
     "text": [
      "[0, 1, 1, 2, 3, 5, 8, 13, 21, 34, 55, 89, 144, 233, 377]\n"
     ]
    }
   ],
   "source": [
    "#Solution:-\n",
    "\n",
    "def gen_fibo(num):\n",
    "    if num==0:\n",
    "        return 0\n",
    "    elif num==1:\n",
    "        return 1\n",
    "    else:\n",
    "        return gen_fibo(num-1)+gen_fibo(num-2)\n",
    "print([gen_fibo(i) for i in range(0,15)])    "
   ]
  },
  {
   "cell_type": "markdown",
   "id": "3b72adcc",
   "metadata": {},
   "source": [
    "### 4.Assuming that we have some email addresses in the \"username@companyname.com\" format, please write program to print the user name of a given email address. Both user names and company names are composed of letters only ?"
   ]
  },
  {
   "cell_type": "markdown",
   "id": "7c6142b7",
   "metadata": {},
   "source": [
    "Example:\n",
    "If the following email address is given as input to the program: john@google.com\n",
    "Then, the output of the program should be: john"
   ]
  },
  {
   "cell_type": "code",
   "execution_count": 23,
   "id": "9ffd0097",
   "metadata": {},
   "outputs": [
    {
     "name": "stdout",
     "output_type": "stream",
     "text": [
      "Enter the email:-john@google.com\n",
      "The user name of given john@google.com is:- john\n",
      "Enter the email:-arpittalmale@gmail.com\n",
      "The user name of given arpittalmale@gmail.com is:- arpittalmale\n"
     ]
    }
   ],
   "source": [
    "#Solution:-\n",
    "\n",
    "def program():\n",
    "    in_user = input(\"Enter the email:-\")\n",
    "    output = in_user.split(\"@\")\n",
    "    print(f\"The user name of given {in_user} is:- {output[0]}\")\n",
    "program()\n",
    "program()"
   ]
  },
  {
   "cell_type": "markdown",
   "id": "02abc8c4",
   "metadata": {},
   "source": [
    "### 5.Define a class named Shape and its subclass Square. The Square class has an init function which takes a length as argument. Both classes have a area function which can print the area of the shape where Shape's area is 0 by default. "
   ]
  },
  {
   "cell_type": "code",
   "execution_count": 25,
   "id": "fa8555fb",
   "metadata": {},
   "outputs": [
    {
     "name": "stdout",
     "output_type": "stream",
     "text": [
      "The area of Square class is:- 625\n"
     ]
    }
   ],
   "source": [
    "#Solution:-\n",
    "\n",
    "class Shape:\n",
    "    def area(self):\n",
    "        return 0\n",
    "class Square(Shape): \n",
    "    def __init__(self,length):\n",
    "        self.length = length\n",
    "    def area(self):\n",
    "        return self.length*self.length\n",
    "square = Square(25)\n",
    "print(\"The area of Square class is:-\",square.area())"
   ]
  }
 ],
 "metadata": {
  "kernelspec": {
   "display_name": "Python 3 (ipykernel)",
   "language": "python",
   "name": "python3"
  },
  "language_info": {
   "codemirror_mode": {
    "name": "ipython",
    "version": 3
   },
   "file_extension": ".py",
   "mimetype": "text/x-python",
   "name": "python",
   "nbconvert_exporter": "python",
   "pygments_lexer": "ipython3",
   "version": "3.10.9"
  }
 },
 "nbformat": 4,
 "nbformat_minor": 5
}
